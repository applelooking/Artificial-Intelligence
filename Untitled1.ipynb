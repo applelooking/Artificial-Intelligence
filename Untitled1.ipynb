{
 "cells": [
  {
   "cell_type": "code",
   "execution_count": 1,
   "metadata": {
    "collapsed": false
   },
   "outputs": [],
   "source": [
    "import gzip\n",
    "from collections import defaultdict\n",
    "\n",
    "def readGz(f):\n",
    "  for l in gzip.open(f):\n",
    "    yield eval(l)\n",
    "\n",
    "### Rating baseline: compute averages for each user, or return the global average if we've never seen the user before\n",
    "\n",
    "allRatings = []\n",
    "counter_training = 0\n",
    "userRatings = defaultdict(list)\n",
    "data = list(readGz(\"/home/ygao/Downloads/pycharm-4.5.4/assignment1/train.json.gz\"))\n",
    "data_training = data[:100000]\n",
    "data_validation = data[900000:]"
   ]
  },
  {
   "cell_type": "code",
   "execution_count": 2,
   "metadata": {
    "collapsed": false
   },
   "outputs": [],
   "source": [
    "allHelpful = []\n",
    "userHelpful = defaultdict(list)\n",
    "\n",
    "for l in data_training:\n",
    "    user,item,helpful = l['reviewerID'], l['itemID'], l['helpful']\n",
    "    allHelpful.append(helpful)\n",
    "\n",
    "    "
   ]
  },
  {
   "cell_type": "code",
   "execution_count": 3,
   "metadata": {
    "collapsed": false
   },
   "outputs": [],
   "source": [
    "# question 1 algorithm 1\n",
    "sumHelpful = sum(x['nHelpful'] for x in allHelpful) * 1.0"
   ]
  },
  {
   "cell_type": "code",
   "execution_count": 4,
   "metadata": {
    "collapsed": false
   },
   "outputs": [],
   "source": [
    "sumTotal = sum(x['outOf'] for x in allHelpful)"
   ]
  },
  {
   "cell_type": "code",
   "execution_count": 5,
   "metadata": {
    "collapsed": false
   },
   "outputs": [
    {
     "data": {
      "text/plain": [
       "(388211, 299549.0)"
      ]
     },
     "execution_count": 5,
     "metadata": {},
     "output_type": "execute_result"
    }
   ],
   "source": [
    "sumTotal, sumHelpful"
   ]
  },
  {
   "cell_type": "code",
   "execution_count": 6,
   "metadata": {
    "collapsed": true
   },
   "outputs": [],
   "source": [
    "averageHelpful = sumHelpful / sumTotal"
   ]
  },
  {
   "cell_type": "code",
   "execution_count": 7,
   "metadata": {
    "collapsed": false
   },
   "outputs": [
    {
     "data": {
      "text/plain": [
       "0.7716138903843528"
      ]
     },
     "execution_count": 7,
     "metadata": {},
     "output_type": "execute_result"
    }
   ],
   "source": [
    "averageHelpful"
   ]
  },
  {
   "cell_type": "code",
   "execution_count": 12,
   "metadata": {
    "collapsed": false
   },
   "outputs": [],
   "source": [
    "# question 1 algorithm 2\n",
    "total = 0\n",
    "for l in data_training:\n",
    "    nHelpful, outOf = l['helpful']['nHelpful'], l['helpful']['outOf']\n",
    "    if outOf != 0:\n",
    "        total += nHelpful * 1.0 / outOf\n",
    "averageHelpful = total / len(data_training)"
   ]
  },
  {
   "cell_type": "code",
   "execution_count": 13,
   "metadata": {
    "collapsed": false
   },
   "outputs": [
    {
     "data": {
      "text/plain": [
       "0.3919276337408682"
      ]
     },
     "execution_count": 13,
     "metadata": {},
     "output_type": "execute_result"
    }
   ],
   "source": [
    "averageHelpful"
   ]
  },
  {
   "cell_type": "code",
   "execution_count": 14,
   "metadata": {
    "collapsed": false
   },
   "outputs": [],
   "source": [
    "# question 2\n",
    "AE = 0\n",
    "for l in data_validation:\n",
    "    helpful = l['helpful']\n",
    "    ratio = 0.0\n",
    "    predicted = averageHelpful * helpful['outOf']\n",
    "    AE += abs(predicted - helpful['nHelpful'])\n",
    "MAE = AE / len(data_validation)"
   ]
  },
  {
   "cell_type": "code",
   "execution_count": 15,
   "metadata": {
    "collapsed": false
   },
   "outputs": [
    {
     "data": {
      "text/plain": [
       "1.5524114883375524"
      ]
     },
     "execution_count": 15,
     "metadata": {},
     "output_type": "execute_result"
    }
   ],
   "source": [
    "MAE"
   ]
  },
  {
   "cell_type": "code",
   "execution_count": 32,
   "metadata": {
    "collapsed": false
   },
   "outputs": [],
   "source": [
    "# question 3\n",
    "X = []\n",
    "Y = []\n",
    "for l in data_training:\n",
    "    nHelpful,outOf,rating = l['helpful']['nHelpful'], l['helpful']['outOf'], l['rating']\n",
    "    text = l['reviewText']\n",
    "    numberOfWord = len(text.split())\n",
    "    ratio = 0\n",
    "    if outOf == 0:\n",
    "        continue\n",
    "    if outOf != 0:\n",
    "        ratio = nHelpful * 1.0 / outOf\n",
    "    Y.append(ratio)\n",
    "    feat = [1]\n",
    "    feat.append(numberOfWord)\n",
    "    feat.append(rating)\n",
    "    X.append(feat)\n"
   ]
  },
  {
   "cell_type": "code",
   "execution_count": 33,
   "metadata": {
    "collapsed": false
   },
   "outputs": [
    {
     "data": {
      "text/plain": [
       "(array([  4.58745758e-01,   1.42189987e-04,   5.97109787e-02]),\n",
       " array([ 5621.8083982]),\n",
       " 3,\n",
       " array([  7.43921105e+04,   6.94111949e+02,   5.62029307e+01]))"
      ]
     },
     "execution_count": 33,
     "metadata": {},
     "output_type": "execute_result"
    }
   ],
   "source": [
    "import numpy as np\n",
    "np.linalg.lstsq(X ,Y)"
   ]
  },
  {
   "cell_type": "code",
   "execution_count": 34,
   "metadata": {
    "collapsed": true
   },
   "outputs": [],
   "source": [
    "alpha, theta1, theta2 = np.linalg.lstsq(X, Y)[0]"
   ]
  },
  {
   "cell_type": "code",
   "execution_count": 35,
   "metadata": {
    "collapsed": false
   },
   "outputs": [
    {
     "data": {
      "text/plain": [
       "0.45874575755907548"
      ]
     },
     "execution_count": 35,
     "metadata": {},
     "output_type": "execute_result"
    }
   ],
   "source": [
    "alpha"
   ]
  },
  {
   "cell_type": "code",
   "execution_count": 36,
   "metadata": {
    "collapsed": false
   },
   "outputs": [
    {
     "data": {
      "text/plain": [
       "0.0001421899867881393"
      ]
     },
     "execution_count": 36,
     "metadata": {},
     "output_type": "execute_result"
    }
   ],
   "source": [
    "theta1"
   ]
  },
  {
   "cell_type": "code",
   "execution_count": null,
   "metadata": {
    "collapsed": true
   },
   "outputs": [],
   "source": []
  },
  {
   "cell_type": "code",
   "execution_count": 37,
   "metadata": {
    "collapsed": false
   },
   "outputs": [
    {
     "name": "stdout",
     "output_type": "stream",
     "text": [
      "68801.7608166\n",
      "49055.7556297\n"
     ]
    }
   ],
   "source": [
    "totalError = 0\n",
    "totalRatio = 0\n",
    "for l in data_validation:\n",
    "    nHelpful,outOf,rating = l['helpful']['nHelpful'], l['helpful']['outOf'], l['rating']\n",
    "    text = l['reviewText']\n",
    "    numberOfWord = len(text.split())\n",
    "    predict = alpha + theta1 * numberOfWord + theta2 * rating\n",
    "    totalError += abs(predict * outOf - nHelpful)\n",
    "    ratio = 0\n",
    "    if outOf != 0:\n",
    "        ratio = nHelpful * 1.0 / outOf\n",
    "    totalRatio += abs(ratio - predict)\n",
    "print totalError\n",
    "print totalRatio"
   ]
  },
  {
   "cell_type": "code",
   "execution_count": 38,
   "metadata": {
    "collapsed": false
   },
   "outputs": [
    {
     "data": {
      "text/plain": [
       "0.68801760816640856"
      ]
     },
     "execution_count": 38,
     "metadata": {},
     "output_type": "execute_result"
    }
   ],
   "source": [
    "totalError / len(data_validation)"
   ]
  },
  {
   "cell_type": "code",
   "execution_count": 39,
   "metadata": {
    "collapsed": false
   },
   "outputs": [
    {
     "data": {
      "text/plain": [
       "0.49055755629696374"
      ]
     },
     "execution_count": 39,
     "metadata": {},
     "output_type": "execute_result"
    }
   ],
   "source": [
    "totalRatio / len(data_validation)"
   ]
  },
  {
   "cell_type": "code",
   "execution_count": 40,
   "metadata": {
    "collapsed": true
   },
   "outputs": [],
   "source": [
    "# question 4"
   ]
  },
  {
   "cell_type": "code",
   "execution_count": 41,
   "metadata": {
    "collapsed": false
   },
   "outputs": [],
   "source": [
    "words = defaultdict(float)\n",
    "ratings = defaultdict(float)\n",
    "data_prediction = list(readGz(\"/home/ygao/Downloads/pycharm-4.5.4/assignment1/helpful.json.gz\"))\n",
    "for l in data_prediction:\n",
    "    user, item, rating, text = l['reviewerID'], l['itemID'], l['rating'], l['reviewText']\n",
    "    numberOfWord = len(text.split())\n",
    "    words[user, item] = numberOfWord\n",
    "    ratings[user, item] = rating\n"
   ]
  },
  {
   "cell_type": "code",
   "execution_count": 42,
   "metadata": {
    "collapsed": false
   },
   "outputs": [
    {
     "data": {
      "text/plain": [
       "50000"
      ]
     },
     "execution_count": 42,
     "metadata": {},
     "output_type": "execute_result"
    }
   ],
   "source": [
    "len(words)"
   ]
  },
  {
   "cell_type": "code",
   "execution_count": 43,
   "metadata": {
    "collapsed": false
   },
   "outputs": [
    {
     "data": {
      "text/plain": [
       "50000"
      ]
     },
     "execution_count": 43,
     "metadata": {},
     "output_type": "execute_result"
    }
   ],
   "source": [
    "len(ratings)"
   ]
  },
  {
   "cell_type": "code",
   "execution_count": null,
   "metadata": {
    "collapsed": true
   },
   "outputs": [],
   "source": []
  },
  {
   "cell_type": "code",
   "execution_count": 44,
   "metadata": {
    "collapsed": true
   },
   "outputs": [],
   "source": [
    "predictions = open(\"/home/ygao/Downloads/pycharm-4.5.4/assignment1/predictions_Helpful.txt\", 'w')\n",
    "for l in open(\"/home/ygao/Downloads/pycharm-4.5.4/assignment1/pairs_Helpful.txt\"):\n",
    "    if l.startswith(\"userID\"):\n",
    "        predictions.write(l)\n",
    "        continue\n",
    "    u,i,outOf = l.strip().split('-')\n",
    "    outOf = int(outOf)\n",
    "    predictions.write(u + '-' + i + '-' + str(outOf) + ',' + str(outOf*(alpha + words[u, i] * theta1 + ratings[u, i] * theta2)) + '\\n')      \n",
    "predictions.close()"
   ]
  }
 ],
 "metadata": {
  "kernelspec": {
   "display_name": "Python 2",
   "language": "python",
   "name": "python2"
  },
  "language_info": {
   "codemirror_mode": {
    "name": "ipython",
    "version": 2
   },
   "file_extension": ".py",
   "mimetype": "text/x-python",
   "name": "python",
   "nbconvert_exporter": "python",
   "pygments_lexer": "ipython2",
   "version": "2.7.6"
  }
 },
 "nbformat": 4,
 "nbformat_minor": 0
}
