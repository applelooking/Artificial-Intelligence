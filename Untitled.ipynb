{
 "cells": [
  {
   "cell_type": "code",
   "execution_count": 5,
   "metadata": {
    "collapsed": false,
    "slideshow": {
     "slide_type": "-"
    }
   },
   "outputs": [],
   "source": [
    "import gzip\n",
    "from collections import defaultdict\n",
    "\n",
    "def readGz(f):\n",
    "  for l in gzip.open(f):\n",
    "    yield eval(l)\n",
    "\n",
    "### Rating baseline: compute averages for each user, or return the global average if we've never seen the user before\n",
    "\n",
    "allRatings = []\n",
    "counter_training = 0\n",
    "userRatings = defaultdict(list)\n"
   ]
  },
  {
   "cell_type": "code",
   "execution_count": 6,
   "metadata": {
    "collapsed": true
   },
   "outputs": [],
   "source": [
    "data = list(readGz(\"/home/ygao/Downloads/pycharm-4.5.4/assignment1/train.json.gz\"))"
   ]
  },
  {
   "cell_type": "code",
   "execution_count": 7,
   "metadata": {
    "collapsed": false
   },
   "outputs": [
    {
     "data": {
      "text/plain": [
       "1000000"
      ]
     },
     "execution_count": 7,
     "metadata": {},
     "output_type": "execute_result"
    }
   ],
   "source": [
    "len(data)"
   ]
  },
  {
   "cell_type": "code",
   "execution_count": 10,
   "metadata": {
    "collapsed": true
   },
   "outputs": [],
   "source": [
    "data_training = data[:100000]"
   ]
  },
  {
   "cell_type": "code",
   "execution_count": 12,
   "metadata": {
    "collapsed": false
   },
   "outputs": [
    {
     "data": {
      "text/plain": [
       "100000"
      ]
     },
     "execution_count": 12,
     "metadata": {},
     "output_type": "execute_result"
    }
   ],
   "source": [
    "len(data_training)"
   ]
  },
  {
   "cell_type": "code",
   "execution_count": 16,
   "metadata": {
    "collapsed": true
   },
   "outputs": [],
   "source": [
    "data_validation = data[900000:]"
   ]
  },
  {
   "cell_type": "code",
   "execution_count": 18,
   "metadata": {
    "collapsed": false
   },
   "outputs": [
    {
     "data": {
      "text/plain": [
       "100000"
      ]
     },
     "execution_count": 18,
     "metadata": {},
     "output_type": "execute_result"
    }
   ],
   "source": [
    "len(data_validation)"
   ]
  },
  {
   "cell_type": "code",
   "execution_count": 19,
   "metadata": {
    "collapsed": true
   },
   "outputs": [],
   "source": [
    "for l in data_training:\n",
    "    user, item = l['reviewerID'], l['itemID']\n",
    "    allRatings.append(l['rating'])\n",
    "    userRatings[user].append(l['rating'])"
   ]
  },
  {
   "cell_type": "code",
   "execution_count": 20,
   "metadata": {
    "collapsed": false
   },
   "outputs": [
    {
     "data": {
      "text/plain": [
       "100000"
      ]
     },
     "execution_count": 20,
     "metadata": {},
     "output_type": "execute_result"
    }
   ],
   "source": [
    "len(allRatings)"
   ]
  },
  {
   "cell_type": "code",
   "execution_count": 21,
   "metadata": {
    "collapsed": false
   },
   "outputs": [
    {
     "data": {
      "text/plain": [
       "29763"
      ]
     },
     "execution_count": 21,
     "metadata": {},
     "output_type": "execute_result"
    }
   ],
   "source": [
    "len(userRatings)"
   ]
  },
  {
   "cell_type": "code",
   "execution_count": 22,
   "metadata": {
    "collapsed": true
   },
   "outputs": [],
   "source": [
    "# question 5 \n",
    "globalAverage = sum(allRatings) / len(allRatings)"
   ]
  },
  {
   "cell_type": "code",
   "execution_count": 23,
   "metadata": {
    "collapsed": false
   },
   "outputs": [
    {
     "data": {
      "text/plain": [
       "4.21824"
      ]
     },
     "execution_count": 23,
     "metadata": {},
     "output_type": "execute_result"
    }
   ],
   "source": [
    "globalAverage"
   ]
  },
  {
   "cell_type": "code",
   "execution_count": 40,
   "metadata": {
    "collapsed": false
   },
   "outputs": [],
   "source": [
    "totalSquareError = 0"
   ]
  },
  {
   "cell_type": "code",
   "execution_count": 43,
   "metadata": {
    "collapsed": true
   },
   "outputs": [],
   "source": [
    "validationRatings = []\n",
    "for l in data_validation:\n",
    "    rating = l['rating']\n",
    "    totalSquareError += (globalAverage - rating)**2"
   ]
  },
  {
   "cell_type": "code",
   "execution_count": 48,
   "metadata": {
    "collapsed": false
   },
   "outputs": [],
   "source": [
    "import math\n",
    "RMSE = math.sqrt(totalSquareError / len(data_validation))\n",
    "MSE = totalSquareError / len(data_validation)"
   ]
  },
  {
   "cell_type": "code",
   "execution_count": 50,
   "metadata": {
    "collapsed": false
   },
   "outputs": [
    {
     "data": {
      "text/plain": [
       "0.98440614707563"
      ]
     },
     "execution_count": 50,
     "metadata": {},
     "output_type": "execute_result"
    }
   ],
   "source": [
    "RMSE\n"
   ]
  },
  {
   "cell_type": "code",
   "execution_count": 51,
   "metadata": {
    "collapsed": false
   },
   "outputs": [
    {
     "data": {
      "text/plain": [
       "0.969055462400287"
      ]
     },
     "execution_count": 51,
     "metadata": {},
     "output_type": "execute_result"
    }
   ],
   "source": [
    "MSE"
   ]
  },
  {
   "cell_type": "code",
   "execution_count": 35,
   "metadata": {
    "collapsed": true
   },
   "outputs": [],
   "source": [
    "userAverage = {}\n",
    "for u in userRatings:\n",
    "    userAverage[u] = sum(userRatings[u]) / len(userRatings[u])"
   ]
  },
  {
   "cell_type": "code",
   "execution_count": 143,
   "metadata": {
    "collapsed": false
   },
   "outputs": [],
   "source": [
    "# question 6\n",
    "alpha = globalAverage\n",
    "betaUser = defaultdict(float)\n",
    "betaItem = defaultdict(float)\n",
    "\n",
    "userRatings = defaultdict(list)\n",
    "itemRatings = defaultdict(list)\n",
    "userAndItemRatings = defaultdict(float)\n",
    "userList = []\n",
    "itemList = []"
   ]
  },
  {
   "cell_type": "code",
   "execution_count": 144,
   "metadata": {
    "collapsed": false
   },
   "outputs": [],
   "source": [
    "for l in data_training:\n",
    "    user,item,rating = l['reviewerID'], l['itemID'], l['rating']\n",
    "    userRatings[user].append(item)\n",
    "    itemRatings[item].append(user)\n",
    "    userAndItemRatings[user, item] = rating\n",
    "    userList.append(user)\n",
    "    itemList.append(item)\n",
    "userSet = set(userList)\n",
    "itemSet = set(itemList)"
   ]
  },
  {
   "cell_type": "code",
   "execution_count": 145,
   "metadata": {
    "collapsed": true
   },
   "outputs": [],
   "source": [
    "def updateAlpha():\n",
    "    global alpha\n",
    "    total = 0\n",
    "    for user, item in userAndItemRatings:\n",
    "        total += userAndItemRatings[user, item]\n",
    "        total -= betaUser[user]\n",
    "        total -= betaItem[item]\n",
    "    alpha = total / len(userAndItemRatings)\n",
    "    return alpha"
   ]
  },
  {
   "cell_type": "code",
   "execution_count": 146,
   "metadata": {
    "collapsed": true
   },
   "outputs": [],
   "source": [
    "def updateBetaUser(user, lamb):\n",
    "    global alpha\n",
    "    total = 0\n",
    "    for item in userRatings[user]:\n",
    "        total += userAndItemRatings[user, item]\n",
    "        total -= (alpha + betaItem[item])\n",
    "    betaUser[user] = total / (lamb + len(userRatings[user]))\n",
    "    "
   ]
  },
  {
   "cell_type": "code",
   "execution_count": 147,
   "metadata": {
    "collapsed": true
   },
   "outputs": [],
   "source": [
    "def updateBetaItem(item, lamb):\n",
    "    global alpha\n",
    "    total = 0\n",
    "    for user in itemRatings[item]:\n",
    "        total += userAndItemRatings[user, item]\n",
    "        total -= (alpha + betaUser[user])\n",
    "    betaItem[item] = total / (lamb + len(itemRatings[item]))"
   ]
  },
  {
   "cell_type": "code",
   "execution_count": 148,
   "metadata": {
    "collapsed": false
   },
   "outputs": [],
   "source": [
    "for i in range(200):\n",
    "    global alpha \n",
    "    alpha = updateAlpha()\n",
    "    totalUser = 0\n",
    "    totalItem = 0\n",
    "    for user in userSet:\n",
    "        updateBetaUser(user, 4.0)\n",
    "        if totalUser > betaUser[user]:\n",
    "            totalUser += betaUser[user]\n",
    "            totalUser = betaUser[user]\n",
    "    for item in itemSet:\n",
    "        updateBetaItem(item, 4.0)\n",
    "        #totalItem = b\n",
    "        totalItem += betaItem[item]\n",
    "    #print i, alpha, totalUser, totalItem\n",
    "    "
   ]
  },
  {
   "cell_type": "code",
   "execution_count": 149,
   "metadata": {
    "collapsed": true
   },
   "outputs": [],
   "source": [
    "totalSE = 0\n",
    "for l in data_validation:\n",
    "    user, item, rating = l['reviewerID'], l['itemID'], l['rating']\n",
    "    predict = alpha + betaUser[user] + betaItem[item]\n",
    "    totalSE += (predict - rating)**2\n",
    "totalSE /= len(data_validation)"
   ]
  },
  {
   "cell_type": "code",
   "execution_count": 150,
   "metadata": {
    "collapsed": false
   },
   "outputs": [
    {
     "data": {
      "text/plain": [
       "0.838950815239764"
      ]
     },
     "execution_count": 150,
     "metadata": {},
     "output_type": "execute_result"
    }
   ],
   "source": [
    "totalSE"
   ]
  },
  {
   "cell_type": "code",
   "execution_count": 120,
   "metadata": {
    "collapsed": false
   },
   "outputs": [],
   "source": [
    "# question 7\n",
    "import operator\n",
    "maxUser = max(betaUser.iteritems(), key=operator.itemgetter(1))"
   ]
  },
  {
   "cell_type": "code",
   "execution_count": 121,
   "metadata": {
    "collapsed": false
   },
   "outputs": [
    {
     "data": {
      "text/plain": [
       "('U334210860', 1.2306860844749707)"
      ]
     },
     "execution_count": 121,
     "metadata": {},
     "output_type": "execute_result"
    }
   ],
   "source": [
    "maxUser"
   ]
  },
  {
   "cell_type": "code",
   "execution_count": 123,
   "metadata": {
    "collapsed": false
   },
   "outputs": [],
   "source": [
    "minUser = min(betaUser.iteritems(), key=operator.itemgetter(1))"
   ]
  },
  {
   "cell_type": "code",
   "execution_count": 124,
   "metadata": {
    "collapsed": false
   },
   "outputs": [
    {
     "data": {
      "text/plain": [
       "('U512598315', -2.97101026233586)"
      ]
     },
     "execution_count": 124,
     "metadata": {},
     "output_type": "execute_result"
    }
   ],
   "source": [
    "minUser"
   ]
  },
  {
   "cell_type": "code",
   "execution_count": 125,
   "metadata": {
    "collapsed": false
   },
   "outputs": [
    {
     "data": {
      "text/plain": [
       "('I635442408', 1.2513816572850665)"
      ]
     },
     "execution_count": 125,
     "metadata": {},
     "output_type": "execute_result"
    }
   ],
   "source": [
    "maxItem = max(betaItem.iteritems(), key=operator.itemgetter(1))\n",
    "maxItem"
   ]
  },
  {
   "cell_type": "code",
   "execution_count": 126,
   "metadata": {
    "collapsed": false
   },
   "outputs": [
    {
     "data": {
      "text/plain": [
       "('I753917390', -2.2249303992766634)"
      ]
     },
     "execution_count": 126,
     "metadata": {},
     "output_type": "execute_result"
    }
   ],
   "source": [
    "minItem = min(betaItem.iteritems(), key=operator.itemgetter(1))\n",
    "minItem"
   ]
  },
  {
   "cell_type": "code",
   "execution_count": 137,
   "metadata": {
    "collapsed": true
   },
   "outputs": [],
   "source": [
    "# question 8\n",
    "\n",
    "userRatings = defaultdict(list)\n",
    "itemRatings = defaultdict(list)\n",
    "userAndItemRatings = defaultdict(float)\n",
    "userList = []\n",
    "itemList = []\n",
    "for l in data_training:\n",
    "    user,item,rating = l['reviewerID'], l['itemID'], l['rating']\n",
    "    userRatings[user].append(item)\n",
    "    itemRatings[item].append(user)\n",
    "    userAndItemRatings[user, item] = rating\n",
    "    userList.append(user)\n",
    "    itemList.append(item)\n",
    "userSet = set(userList)\n",
    "itemSet = set(itemList)\n",
    "lamMSE = defaultdict(float)"
   ]
  },
  {
   "cell_type": "code",
   "execution_count": 142,
   "metadata": {
    "collapsed": false
   },
   "outputs": [
    {
     "name": "stdout",
     "output_type": "stream",
     "text": [
      "0 1.43591043954\n",
      "1 0.904248890211\n",
      "2 0.855336921405\n",
      "3 0.842083222169\n",
      "4 0.83895081524\n",
      "5 0.839675075839\n",
      "6 0.842051897574\n",
      "7 0.845150924132\n",
      "8 0.848535624019\n",
      "9 0.851988083821\n",
      "10 0.855396249736\n",
      "11 0.858702634674\n",
      "12 0.861879122713\n",
      "13 0.864913853631\n",
      "14 0.867804086204\n",
      "15 0.870552181742\n",
      "16 0.87316328692\n",
      "17 0.875643974503\n",
      "18 0.878001439198\n",
      "19 0.880243022385\n"
     ]
    }
   ],
   "source": [
    "for i in range(20):\n",
    "    lamb = i\n",
    "    alpha = globalAverage\n",
    "    betaUser = defaultdict(float)\n",
    "    betaItem = defaultdict(float)\n",
    "    for j in range(200):\n",
    "        alpha = updateAlpha()\n",
    "        totalUser = 0\n",
    "        totalItem = 0\n",
    "        for user in userSet:\n",
    "            updateBetaUser(user, i)\n",
    "        for item in itemSet:\n",
    "            updateBetaItem(item, i)\n",
    "    totalSE = 0\n",
    "    for l in data_validation:\n",
    "        user, item, rating = l['reviewerID'], l['itemID'], l['rating']\n",
    "        predict = alpha + betaUser[user] + betaItem[item]\n",
    "        totalSE += (predict - rating)**2\n",
    "    totalSE /= len(data_validation)     \n",
    "    lamMSE[i] = totalSE\n",
    "    print i, totalSE\n",
    "    #print i, alpha, totalUser, totalItem\n",
    "    "
   ]
  },
  {
   "cell_type": "code",
   "execution_count": 140,
   "metadata": {
    "collapsed": false
   },
   "outputs": [
    {
     "data": {
      "text/plain": [
       "defaultdict(float, {199: 0.9515542823986695})"
      ]
     },
     "execution_count": 140,
     "metadata": {},
     "output_type": "execute_result"
    }
   ],
   "source": [
    "lamMSE"
   ]
  },
  {
   "cell_type": "code",
   "execution_count": 155,
   "metadata": {
    "collapsed": false
   },
   "outputs": [],
   "source": [
    "predictions = open(\"/home/ygao/Downloads/pycharm-4.5.4/assignment1/predictions_Rating.txt\", 'w')\n",
    "for l in open(\"/home/ygao/Downloads/pycharm-4.5.4/assignment1/pairs_Rating.txt\"):\n",
    "    if l.startswith(\"userID\"):\n",
    "        #header\n",
    "        predictions.write(l)\n",
    "        continue\n",
    "    u,i = l.strip().split('-')\n",
    "    predictions.write(u + '-' + i + ',' + str(alpha + betaUser[u] + betaItem[i]) + '\\n')\n",
    "predictions.close()"
   ]
  },
  {
   "cell_type": "code",
   "execution_count": null,
   "metadata": {
    "collapsed": true
   },
   "outputs": [],
   "source": []
  }
 ],
 "metadata": {
  "kernelspec": {
   "display_name": "Python 2",
   "language": "python",
   "name": "python2"
  },
  "language_info": {
   "codemirror_mode": {
    "name": "ipython",
    "version": 2
   },
   "file_extension": ".py",
   "mimetype": "text/x-python",
   "name": "python",
   "nbconvert_exporter": "python",
   "pygments_lexer": "ipython2",
   "version": "2.7.6"
  }
 },
 "nbformat": 4,
 "nbformat_minor": 0
}
